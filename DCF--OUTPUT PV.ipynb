{
 "cells": [
  {
   "cell_type": "code",
   "execution_count": 26,
   "metadata": {
    "collapsed": true
   },
   "outputs": [],
   "source": [
    "def pv_computater(number_of_periods,discount_rate,terminal_growth_rate,terminal_discount_rate,a):\n",
    "    n = int(number_of_periods)\n",
    "    wacc = discount_rate\n",
    "    g = terminal_growth_rate\n",
    "    tr = terminal_discount_rate\n",
    "    cf = []\n",
    "    for e in a:\n",
    "        cf.append(float(e))\n",
    "    discount_cash_flow = 0\n",
    "    l = len(cf)\n",
    "    for i in range(0,l):\n",
    "        discount_cash_flow = discount_cash_flow + cf[i]/(1+wacc)**(i+1)\n",
    "    terminal_value = (cf[l-1]*(1+g)/(tr-g))/(1+wacc)**n\n",
    "    present_value = discount_cash_flow + terminal_value\n",
    "    print(present_value)"
   ]
  },
  {
   "cell_type": "code",
   "execution_count": 22,
   "metadata": {},
   "outputs": [
    {
     "name": "stdout",
     "output_type": "stream",
     "text": [
      "730740.4277662159\n"
     ]
    }
   ],
   "source": [
    "cf = [2000,330,20000,30000,40000,20000,19999,30000]\n",
    "pv = pv_computater(4,0.06,0.03,0.07,cf)\n",
    "pv"
   ]
  },
  {
   "cell_type": "code",
   "execution_count": 19,
   "metadata": {},
   "outputs": [
    {
     "data": {
      "text/plain": [
       "730740.4277662159"
      ]
     },
     "execution_count": 19,
     "metadata": {},
     "output_type": "execute_result"
    }
   ],
   "source": [
    "pv"
   ]
  },
  {
   "cell_type": "code",
   "execution_count": 27,
   "metadata": {},
   "outputs": [
    {
     "name": "stdout",
     "output_type": "stream",
     "text": [
      "Enter in order as: n (the number of periods), discount rate, the terminal growth rate, and the terminal discount rate:4,0.06,0.03,0.07\n",
      "Enter in order as: CF[1],CF[2],CF[3],...,CF[N]:2000,330,20000,30000,40000,20000,19999,30000\n",
      "730740.4277662159\n"
     ]
    }
   ],
   "source": [
    "a = input(\"Enter in order as: n (the number of periods), discount rate, the terminal growth rate, and the terminal discount rate:\").split(\",\")\n",
    "b = input(\"Enter in order as: CF[1],CF[2],CF[3],...,CF[N]:\").split(\",\")\n",
    "for cf in b:\n",
    "    cf = float(cf)\n",
    "number_of_periods = float(a[0])\n",
    "discount_rate = float(a[1])\n",
    "terminal_growth_rate = float(a[2])\n",
    "terminal_discount_rate = float(a[3])\n",
    "pv_computater(number_of_periods,discount_rate,terminal_growth_rate,terminal_discount_rate,b)"
   ]
  },
  {
   "cell_type": "code",
   "execution_count": null,
   "metadata": {
    "collapsed": true
   },
   "outputs": [],
   "source": []
  }
 ],
 "metadata": {
  "kernelspec": {
   "display_name": "Python 3",
   "language": "python",
   "name": "python3"
  },
  "language_info": {
   "codemirror_mode": {
    "name": "ipython",
    "version": 3
   },
   "file_extension": ".py",
   "mimetype": "text/x-python",
   "name": "python",
   "nbconvert_exporter": "python",
   "pygments_lexer": "ipython3",
   "version": "3.6.3"
  }
 },
 "nbformat": 4,
 "nbformat_minor": 2
}
